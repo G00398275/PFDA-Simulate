{
 "cells": [
  {
   "cell_type": "markdown",
   "id": "d08ca7a4-07e0-4745-9753-f6de1b289f3b",
   "metadata": {},
   "source": [
    "# Simulate.ipynb\n",
    "***\n",
    "<br>\n",
    "\n",
    "# Programming for Data Analysis 2021 - Project  \n",
    "\n",
    "## Author - Ross Downey (G00398275)\n",
    "\n",
    "## Lecturer - Dr. Brian McGinley\n",
    "***"
   ]
  },
  {
   "cell_type": "markdown",
   "id": "aa2d532f-3522-4762-9f4a-b955e752093b",
   "metadata": {},
   "source": [
    "![](https://pbs.twimg.com/profile_images/697093982724210688/S2wJ6pg2_400x400.jpg)"
   ]
  },
  {
   "cell_type": "markdown",
   "id": "fad014db-423e-474e-9104-5d3aac388abe",
   "metadata": {},
   "source": [
    "## Aim\n",
    "***\n",
    "<br>\n",
    "\n",
    "The aim of this project is to simulate a real world phenomenon that can be measured, which one hundred data points could be collected across different variables. In this case I have chosen a number of famous horse races across the world. Types of variables involved with succesful horses in these races will be investigated, such as age, weight, rating, experience etc. The likely distributions of these variables will be simulated (based on previous trends) and also their relationships with each other will be examined.  \n",
    "A dataset will then be simualted based on these variables' distributions in an attempt to predict the attributed of horses likely to be successful in these races.\n"
   ]
  },
  {
   "cell_type": "markdown",
   "id": "1f7e1c5a-ae11-4733-90e3-a249bd424b11",
   "metadata": {},
   "source": [
    "## Python Packages\n",
    "***\n",
    "<br>\n",
    "\n",
    "A number of python packages will be used over the course of this notebook. They are briefly summarized below\n",
    "\n",
    "### Numpy\n",
    "![](https://neuraspike.com/wp-content/uploads/2020/11/thumbnail_numpy_tutorial_logo-neuraspike.png.png)  \n",
    "Numpy, or numerical Python, is a library used in Python to create different types of arrays or multi-dimensional matrices, and includes a large collection of mathematical functions to operate on these arrays.[1]. In this case Numpy will be used to simulate data using the numpy.random package based on certain mathematical distributions.  \n",
    "\n",
    "### Matplotlib\n",
    "![](https://miro.medium.com/max/1400/0*Q2P7piuSxFQIq60Z.jpg)  \n",
    "Matplotlib is a plotting library used in python to create visual plots from data. [2]. For this case Matplotlib will be used to create certain plots to help present large amounts of numerical data, generated using Numpy, in a clear and concise manner using histograms, charts etc.  \n",
    "\n",
    "### Seaborn  \n",
    "![](https://files.ai-pool.com/a/21155149cb560f48f085a21264277c3c.png)  \n",
    "Seaborn is also a plotting library used in Python. It is based on Matplotlib, but in this author's opinion can yield more visually appealing plots than Matplotlib in certain cases."
   ]
  },
  {
   "cell_type": "code",
   "execution_count": 2,
   "id": "c10fb500-bab6-454d-80e7-1fc547b64b2b",
   "metadata": {},
   "outputs": [],
   "source": [
    "# Importing numpy for numerical arrays\n",
    "import numpy as np\n",
    "\n",
    "# For plotting\n",
    "import matplotlib.pyplot as plt\n",
    "\n",
    "# Also for plotting\n",
    "import seaborn as sns"
   ]
  },
  {
   "cell_type": "markdown",
   "id": "b7baca7a-9352-485d-8693-b5585fd245ea",
   "metadata": {},
   "source": [
    "## Background\n",
    "***\n",
    "Horse racing is a widely popular sport in many countries throughout the world. The basic premise is racing horses against each other over different conditions (distances, obstacles, surfaces etc.) to determine which is the fastest. Horse racing has been performed for thousands of years throughout the world in a variety of formats. There are records of horse races in Ancient Roman and Greek literature (particulary chariot races). [3]  From the 1400s to the 1800s a horse race closed the traditional Spring festival in Rome where riderless horses, imported from Africa, were raced along the Via del Corso (a long straight street).  Subsequent to this type of horse racing, the sport gained popularity with British royalty and aristocracy, earning it the title of \"The Sport of Kings\". This title has been maintained to this day, with a certain element of \"high society\" involved in owning and managing large stables and thoroughbreds worth millions of Euro.  \n",
    "The sport also gained huge popularity with the working class, particular in terms of wagering on the outcomes of horse races. Bookmakers, or \"bookies\", will set certain odds on horses based on their perceived chances of winning, or placing (second, third, fourth etc.) and customers, or \"punters\" will place money with the bookmaker in an attempt to win money from the bookmaker based on the outcome of the races.  \n",
    "The bookmaking component is likely the main reason for the ubiquitous popularity of the sport. The prohibitive cost of owning and maintaing horses, espcially thoroughbreds used in high profile races, prevents nealry all but the wealthy elite from becoming involved as owners. However, having money on a horse in a race, and the possibility of winning money on the outcome of these races, allows any person (provided they are over the permitted gambling age of 18...) have a level of interest. \n",
    "\n",
    "![](https://www.starsportsbet.co.uk/wp-content/uploads/2017/03/starring.jpg)  \n",
    "\n",
    "The wagering element of horse racing is a big business. It is estimated that over $100 billion dollars annually is bet on horse races throughout the world.[4] The most popular horse race to gamble on is the English Grand National, run at Aintree racecourse every April. Approximately £300 million is bet on this race alone each year [5] , a staggering amount.  \n",
    "There is also a prize fund given for winnning or placing (second, third, fourth etc.) to the winning owners, trainers, and jockeys. The prize fund for the English Grand National is in the region of £1 million pounds. [6]  I will discuss further details of this race, and others in subsequent sections.\n",
    "Needless to say, when there is so much money (and prestige) involved in these races, having a statistical analysis to help predict a succesful entrant could prove very lucrative.  \n",
    "For each horse race the bookmaker will set odds based on the chance or likelihood that the horse will finish the race in first position. These odds are usually in a fraction format such as 2/1 (two to one) or 13/2 (thirteeen to two) for example. This means that for every one euro bet the bookmaker will return two if the horse wins, or in the case of 13/2, for every two euro placed the bookmaker will return thirteen. There are also returns possible if the horse finishes second / third / fourth in a race. This is called placing in a race. Usually the bookmaker wil offer a quarter or a fifth of the odds for a horse, depending on the number of horses in a race. This type of bet, known as \"each-way\" costs more to put on (double a normal bet) as the bookmaker is offering more chances to win in the case of this bet.  \n",
    "How the bookmaker sets these odds on each horse will be part of the focus of this notebook. The bookmaker will set odds based on what they perceive the chances of a horse being succesful in a race. There are a number of factors that can govern the decisions made to offer certain odds on a horse. These include, but are not limited to, the horse's age, the weight the horse is carrying, the official rating given to the horse, the experience of the horse, the condition of the ground on the racecourse, the stall the horse starts the race in etc.  \n",
    "For the purposes of this project I will attempt to build a simulation model for a number of horse races based on previous winners' attributes, and simulate what are the optimum variable values for a horse to be succesful in these races. The first race I will attempt to build a simulation model is the English Grand National, also known as the Aintree Grand National"
   ]
  },
  {
   "cell_type": "markdown",
   "id": "b70c9cc0-9783-433c-8537-3c60f47fe3f6",
   "metadata": {},
   "source": [
    "## Aintree Grand National\n",
    "***\n",
    "<br>\n",
    "The Aintree Grand National (as the name suggests) is run at Aintree racecourse, near Liverpool, England, every April. It is probably the most famous horse race in the world and attract the largest number of bettors each year. First run in 1839, it is run over four miles and thirty fences, and is a gruelling test of horses' stamina and jockey's bravery. [6]  It is the most valuable horse race, terms of prize money offered, in Europe with a prize fund of £1 million pounds, and as stated previously, approximately £300 million pounds is wagered on this race alone each year.  \n",
    "Many would argue that luck is the deciding factor in a race like this. With so many horses, running such a large distance, and clearing thirty or so jumps it is true that to be succesful in this race there is an element of luck involved. For example, if a horses is clearing a jump just behind another one, should the horse in front fall it is likely that they could bring down the trailing horse. However, I hope to show that there are certain attributes a horse can possess which can give them a far greater chance of success. I will now proceed to discuss each type of attribute and start to simulate data points using numpy.random based on these attributes."
   ]
  },
  {
   "cell_type": "markdown",
   "id": "cfeca34e-44c6-4523-b3f8-8645ad785d72",
   "metadata": {},
   "source": [
    "### Age\n",
    "***\n",
    "<br>\n",
    "\n",
    "The age of the horse is one of the most important variables in this race. A novice, or inexperienced, horse has slim chance of managing to run over four miles and thirty fences succesfully. Conversely, as the race is such a gruelling test of stamina, an older horse with many miles on the clock so to speak is unlikely to make the distance in front of a younger, fresher horse. Those of us who attempted to play sport into their thirties can relate to this when facing younger opponents in their late teens, or early twenties... As suggested, there is a certain age range where a horse is far more likely to be successful in this race. A horse does not start their jump racing career until they are two or three years old (they are classed juveniles in this case), and cannot compete in the Aintree Grand National until they are at least seven years old. This age limit was set in 2011 following a number of fatal fallers in previous years. Prior to this a six year old horse had not won in the Grand National since 1915. [7]\n",
    "An examination of previous winners of this race will give an indication of the optimum age range a horse should be, and the type of distribution that should be applied when simulating data. Although there has been over 150 runnings of this race, there have been a number of rule and condition changes over the years. Consequently, for the purposes of this exercise I will examine the previous twenty events to help build a representative sample. [8]  \n",
    "The age profile of the previous twenty winners are as follows:  \n",
    "\n",
    "- 0 have been seven years of age\n",
    "- 5 have been eight years of age\n",
    "- 4 have been nine years of age\n",
    "- 5 have been ten years of age\n",
    "- 4 have been eleven years of age\n",
    "- 1 has been twelve years of age\n",
    "- 0 have been thirteen years of age  \n",
    "\n",
    "This indicates while there is not an optimum single age, there is definitely a range of eight years to eleven where the horse needs to be to have a decent chance of successful. Interestingly the numbers appear to be almost evenly distributed across this range. Consequently, the best distribution to use for this variable is the uniform distribution. The uniform distribution is used when each variable has an equal probability of being generated by numpy.random.  \n",
    "For the purposes of this project i will simulate 200 outcomes for each variable. "
   ]
  },
  {
   "cell_type": "code",
   "execution_count": 6,
   "id": "44c6d5a9-4c3b-4b6a-bfff-4a62010cb641",
   "metadata": {},
   "outputs": [
    {
     "data": {
      "text/plain": [
       "array([ 9,  8,  9,  9, 10,  9,  8, 10,  8,  8, 10,  9,  9,  9, 10,  9,  9,\n",
       "        8,  9,  8, 10,  9, 10, 10,  8,  8,  9,  9,  9,  8, 10,  9,  9,  8,\n",
       "        8,  8,  9,  9, 10,  9, 10,  9,  8,  9,  9, 10, 10,  9,  9,  8, 10,\n",
       "        9, 10,  9,  9, 10,  8,  8,  9,  8,  8,  8,  9,  9, 10,  8,  8,  8,\n",
       "       10,  9,  9,  8,  8, 10,  8, 10,  9, 10,  8,  8,  8,  8, 10,  9, 10,\n",
       "        8,  8,  8,  8,  8, 10,  9,  9, 10, 10,  9,  9, 10,  9, 10,  8,  9,\n",
       "       10,  8,  8,  8,  9,  8,  9,  9, 10,  9,  9, 10,  9,  8, 10,  8,  9,\n",
       "        8, 10,  8,  9,  8,  9,  8,  8,  9, 10,  8,  8,  9,  8,  8,  9,  8,\n",
       "       10, 10,  9,  9,  8,  9,  8,  8,  8, 10,  8,  9,  8, 10, 10, 10,  8,\n",
       "       10,  8, 10, 10,  9,  8, 10, 10, 10, 10,  9,  8,  8,  8, 10, 10,  8,\n",
       "        9,  8, 10,  9,  9,  8,  8,  8,  9,  9,  9, 10,  8,  8,  9, 10,  9,\n",
       "        8,  8, 10,  8,  8,  9, 10, 10, 10,  9, 10, 10, 10], dtype=int64)"
      ]
     },
     "execution_count": 6,
     "metadata": {},
     "output_type": "execute_result"
    }
   ],
   "source": [
    "# Adapted from Numpy.random official documentation [9]\n",
    "# Defining the random number generator\n",
    "rng = np.random.default_rng()\n",
    "# Setting the variables, min 8, max 11, 200 variables\n",
    "age = rng.integers(low=8, high=11, size=200)\n",
    "age"
   ]
  },
  {
   "cell_type": "markdown",
   "id": "5caced2a-a69e-43a3-8a06-8a9a547dacb4",
   "metadata": {},
   "source": [
    "As is typically the case in large arrays generated using numpy, it is best to demonstrate these using plots instead of just showing the array itself."
   ]
  },
  {
   "cell_type": "code",
   "execution_count": 7,
   "id": "d3cbb8ed-6517-4111-9ea4-a91662deb8c9",
   "metadata": {},
   "outputs": [
    {
     "data": {
      "image/png": "[encoded data removed]",
      "text/plain": [
       "<Figure size 432x288 with 1 Axes>"
      ]
     },
     "metadata": {},
     "output_type": "display_data"
    }
   ],
   "source": [
    "# Set the default plot style\n",
    "plt.style.use('seaborn-dark')\n",
    "# Plotting\n",
    "plt.hist(age)\n",
    "plt.show()"
   ]
  },
  {
   "cell_type": "code",
   "execution_count": null,
   "id": "6dc36ac6-531b-49ec-b27f-2eae2d421d01",
   "metadata": {},
   "outputs": [],
   "source": []
  },
  {
   "cell_type": "code",
   "execution_count": null,
   "id": "976caac4-0ec7-4117-a77b-7411d43eef06",
   "metadata": {},
   "outputs": [],
   "source": []
  },
  {
   "cell_type": "code",
   "execution_count": null,
   "id": "a2e2fbf5-a62f-44d5-8439-2f818a150b9f",
   "metadata": {},
   "outputs": [],
   "source": []
  },
  {
   "cell_type": "code",
   "execution_count": null,
   "id": "977f78f3-884a-4249-9cbb-b87b127c0750",
   "metadata": {},
   "outputs": [],
   "source": []
  },
  {
   "cell_type": "code",
   "execution_count": null,
   "id": "cad119f5-3017-41e8-ab1a-8d0733a9565e",
   "metadata": {},
   "outputs": [],
   "source": []
  },
  {
   "cell_type": "code",
   "execution_count": null,
   "id": "afb8c501-1c6b-4202-8fed-2296e61be55f",
   "metadata": {},
   "outputs": [],
   "source": []
  },
  {
   "cell_type": "code",
   "execution_count": null,
   "id": "bfd92ba9-627b-4cbe-96f9-f6ab2781942c",
   "metadata": {},
   "outputs": [],
   "source": []
  },
  {
   "cell_type": "code",
   "execution_count": null,
   "id": "c80daf28-f97e-47e7-82d1-35b8c93893b5",
   "metadata": {},
   "outputs": [],
   "source": []
  },
  {
   "cell_type": "code",
   "execution_count": null,
   "id": "cfc29b04-da69-498d-8353-be9c2a100e04",
   "metadata": {},
   "outputs": [],
   "source": []
  },
  {
   "cell_type": "code",
   "execution_count": null,
   "id": "b5b55d93-6b3b-40d5-be5e-faab510c4583",
   "metadata": {},
   "outputs": [],
   "source": []
  },
  {
   "cell_type": "code",
   "execution_count": null,
   "id": "4d9170e1-851d-417a-8b31-9aff0e58427d",
   "metadata": {},
   "outputs": [],
   "source": []
  },
  {
   "cell_type": "code",
   "execution_count": null,
   "id": "16874723-48c9-4edd-ba0e-24df7dc7ebd1",
   "metadata": {},
   "outputs": [],
   "source": []
  },
  {
   "cell_type": "code",
   "execution_count": null,
   "id": "37333d9b-f632-4f74-860b-3577f1150105",
   "metadata": {},
   "outputs": [],
   "source": []
  },
  {
   "cell_type": "code",
   "execution_count": null,
   "id": "b14167fb-aa59-4252-bba5-0cf31257f29c",
   "metadata": {},
   "outputs": [],
   "source": []
  },
  {
   "cell_type": "code",
   "execution_count": null,
   "id": "80bc421d-f6a8-45fd-85ea-0c5d851c46a9",
   "metadata": {},
   "outputs": [],
   "source": []
  },
  {
   "cell_type": "code",
   "execution_count": null,
   "id": "0ef09f41-b915-48dd-b839-5f584779620b",
   "metadata": {},
   "outputs": [],
   "source": []
  },
  {
   "cell_type": "code",
   "execution_count": null,
   "id": "aefdbc24-b0b8-4580-8a89-95c60a1b0b96",
   "metadata": {},
   "outputs": [],
   "source": []
  },
  {
   "cell_type": "code",
   "execution_count": null,
   "id": "9bb71754-c10f-48ce-9683-fa92a25b1f6d",
   "metadata": {},
   "outputs": [],
   "source": []
  },
  {
   "cell_type": "code",
   "execution_count": null,
   "id": "5e4f68be-b295-41ff-b762-5bb49fbec89b",
   "metadata": {},
   "outputs": [],
   "source": []
  },
  {
   "cell_type": "code",
   "execution_count": null,
   "id": "b9faf25c-2742-4fca-9517-1c0a030ab978",
   "metadata": {},
   "outputs": [],
   "source": []
  },
  {
   "cell_type": "code",
   "execution_count": null,
   "id": "972b7d49-fc5e-4879-957d-7cb900f03639",
   "metadata": {},
   "outputs": [],
   "source": []
  },
  {
   "cell_type": "code",
   "execution_count": null,
   "id": "62c7606c-b2bd-4018-8f34-1ea08f7732ed",
   "metadata": {},
   "outputs": [],
   "source": []
  },
  {
   "cell_type": "code",
   "execution_count": null,
   "id": "bfb9d465-5160-46ad-b8b3-9eec78bf4505",
   "metadata": {},
   "outputs": [],
   "source": []
  },
  {
   "cell_type": "code",
   "execution_count": null,
   "id": "f54fbdf9-ab96-4859-845b-0f0164a62fca",
   "metadata": {},
   "outputs": [],
   "source": []
  },
  {
   "cell_type": "markdown",
   "id": "669324c8-b6d6-4c59-884e-ea69f2355ab0",
   "metadata": {},
   "source": [
    "## References\n",
    "***\n",
    "<br>\n",
    "\n",
    "[1] https://en.wikipedia.org/wiki/NumPy  \n",
    "[2] https://en.wikipedia.org/wiki/Matplotlib  \n",
    "[3] https://en.wikipedia.org/wiki/Horse_racing  \n",
    "[4] https://en.wikipedia.org/wiki/Betting_on_horse_racing  \n",
    "[5] https://www.independent.co.uk/sport/racing/grand-national-2019-prize-money-how-much-winner-earn-aintree-latest-a8856996.html  \n",
    "[6] https://en.wikipedia.org/wiki/Grand_National  \n",
    "[7] https://www.theguardian.com/sport/2011/nov/02/minimum-age-grand-national-runners  \n",
    "[8] https://en.wikipedia.org/wiki/List_of_Grand_National_winners  \n",
    "[9] https://numpy.org/doc/stable/reference/random/index.html  \n",
    "[10] "
   ]
  },
  {
   "cell_type": "code",
   "execution_count": null,
   "id": "9d27e382-7780-4ea1-b20a-91f712666ff6",
   "metadata": {},
   "outputs": [],
   "source": []
  }
 ],
 "metadata": {
  "kernelspec": {
   "display_name": "Python 3",
   "language": "python",
   "name": "python3"
  },
  "language_info": {
   "codemirror_mode": {
    "name": "ipython",
    "version": 3
   },
   "file_extension": ".py",
   "mimetype": "text/x-python",
   "name": "python",
   "nbconvert_exporter": "python",
   "pygments_lexer": "ipython3",
   "version": "3.8.8"
  }
 },
 "nbformat": 4,
 "nbformat_minor": 5
}
